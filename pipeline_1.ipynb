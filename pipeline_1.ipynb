{
 "cells": [
  {
   "cell_type": "markdown",
   "metadata": {},
   "source": [
    "### Dependencies"
   ]
  },
  {
   "cell_type": "code",
   "execution_count": 1,
   "metadata": {},
   "outputs": [],
   "source": [
    "import pandas as pd\n",
    "import numpy as np\n",
    "import string\n",
    "import re"
   ]
  },
  {
   "cell_type": "markdown",
   "metadata": {},
   "source": [
    "### Load data "
   ]
  },
  {
   "cell_type": "code",
   "execution_count": 2,
   "metadata": {},
   "outputs": [],
   "source": [
    "preproc_data = \"../botData/preproc/sentences_output.xlsx\""
   ]
  },
  {
   "cell_type": "code",
   "execution_count": 3,
   "metadata": {},
   "outputs": [
    {
     "data": {
      "text/html": [
       "<div>\n",
       "<style scoped>\n",
       "    .dataframe tbody tr th:only-of-type {\n",
       "        vertical-align: middle;\n",
       "    }\n",
       "\n",
       "    .dataframe tbody tr th {\n",
       "        vertical-align: top;\n",
       "    }\n",
       "\n",
       "    .dataframe thead th {\n",
       "        text-align: right;\n",
       "    }\n",
       "</style>\n",
       "<table border=\"1\" class=\"dataframe\">\n",
       "  <thead>\n",
       "    <tr style=\"text-align: right;\">\n",
       "      <th></th>\n",
       "      <th>Unnamed: 0</th>\n",
       "      <th>english</th>\n",
       "      <th>_czech</th>\n",
       "      <th>_intent</th>\n",
       "    </tr>\n",
       "  </thead>\n",
       "  <tbody>\n",
       "    <tr>\n",
       "      <td>0</td>\n",
       "      <td>0.0</td>\n",
       "      <td>Can I have the menu please?</td>\n",
       "      <td>Můžete mi přinést jídelní lístek?\\t\\t</td>\n",
       "      <td>ask_menu</td>\n",
       "    </tr>\n",
       "    <tr>\n",
       "      <td>1</td>\n",
       "      <td>1.0</td>\n",
       "      <td>What is the soup of the day?</td>\n",
       "      <td>Jaká je polévka dne?\\t\\t</td>\n",
       "      <td>ask_info</td>\n",
       "    </tr>\n",
       "    <tr>\n",
       "      <td>2</td>\n",
       "      <td>2.0</td>\n",
       "      <td>What are today's specials?</td>\n",
       "      <td>Jaké jsou speciality dne?\\t\\t</td>\n",
       "      <td>ask_info</td>\n",
       "    </tr>\n",
       "    <tr>\n",
       "      <td>3</td>\n",
       "      <td>5.0</td>\n",
       "      <td>Do you have any vegetarian meatless dishes?</td>\n",
       "      <td>Máte nějaká vegetariánská / bezmasá jídla?\\t\\t</td>\n",
       "      <td>ask_info</td>\n",
       "    </tr>\n",
       "    <tr>\n",
       "      <td>4</td>\n",
       "      <td>6.0</td>\n",
       "      <td>I'll have</td>\n",
       "      <td>Dám si</td>\n",
       "      <td>order_food</td>\n",
       "    </tr>\n",
       "    <tr>\n",
       "      <td>5</td>\n",
       "      <td>9.0</td>\n",
       "      <td>Check please!</td>\n",
       "      <td>Zaplatíme!\\t\\t</td>\n",
       "      <td>pay_order</td>\n",
       "    </tr>\n",
       "    <tr>\n",
       "      <td>6</td>\n",
       "      <td>10.0</td>\n",
       "      <td>Do you take credit cards?</td>\n",
       "      <td>Berete kreditní karty?\\t\\t</td>\n",
       "      <td>pay_order</td>\n",
       "    </tr>\n",
       "    <tr>\n",
       "      <td>7</td>\n",
       "      <td>11.0</td>\n",
       "      <td>Is service included?</td>\n",
       "      <td>Je obsluha v ceně?\\t\\t</td>\n",
       "      <td>ask_info</td>\n",
       "    </tr>\n",
       "    <tr>\n",
       "      <td>8</td>\n",
       "      <td>12.0</td>\n",
       "      <td>I'm on a diet</td>\n",
       "      <td>Mám dietu. / Držím dietu.\\t\\t</td>\n",
       "      <td>fallback</td>\n",
       "    </tr>\n",
       "    <tr>\n",
       "      <td>9</td>\n",
       "      <td>13.0</td>\n",
       "      <td>I have an allergy to</td>\n",
       "      <td>Mám alergii na</td>\n",
       "      <td>inform_allergy</td>\n",
       "    </tr>\n",
       "  </tbody>\n",
       "</table>\n",
       "</div>"
      ],
      "text/plain": [
       "   Unnamed: 0                                      english  \\\n",
       "0         0.0                  Can I have the menu please?   \n",
       "1         1.0                 What is the soup of the day?   \n",
       "2         2.0                   What are today's specials?   \n",
       "3         5.0  Do you have any vegetarian meatless dishes?   \n",
       "4         6.0                                    I'll have   \n",
       "5         9.0                                Check please!   \n",
       "6        10.0                    Do you take credit cards?   \n",
       "7        11.0                         Is service included?   \n",
       "8        12.0                                I'm on a diet   \n",
       "9        13.0                         I have an allergy to   \n",
       "\n",
       "                                           _czech         _intent  \n",
       "0           Můžete mi přinést jídelní lístek?\\t\\t        ask_menu  \n",
       "1                        Jaká je polévka dne?\\t\\t        ask_info  \n",
       "2                   Jaké jsou speciality dne?\\t\\t        ask_info  \n",
       "3  Máte nějaká vegetariánská / bezmasá jídla?\\t\\t        ask_info  \n",
       "4                                          Dám si      order_food  \n",
       "5                                  Zaplatíme!\\t\\t       pay_order  \n",
       "6                      Berete kreditní karty?\\t\\t       pay_order  \n",
       "7                          Je obsluha v ceně?\\t\\t        ask_info  \n",
       "8                   Mám dietu. / Držím dietu.\\t\\t        fallback  \n",
       "9                                  Mám alergii na  inform_allergy  "
      ]
     },
     "execution_count": 3,
     "metadata": {},
     "output_type": "execute_result"
    }
   ],
   "source": [
    "customer_sentences = pd.read_excel(preproc_data)\n",
    "customer_sentences.head(10)"
   ]
  },
  {
   "cell_type": "markdown",
   "metadata": {},
   "source": [
    "<p> As can be seen above the 'czech' column needs some data cleaning, we remove remaning tags, accents, and lowercase all the sentences</p>"
   ]
  },
  {
   "cell_type": "markdown",
   "metadata": {},
   "source": [
    "### Additional Preparation steps Helpers"
   ]
  },
  {
   "cell_type": "markdown",
   "metadata": {},
   "source": [
    "#### Lowercase"
   ]
  },
  {
   "cell_type": "code",
   "execution_count": 4,
   "metadata": {},
   "outputs": [],
   "source": [
    "def lowercase(sentence): return sentence.lower()"
   ]
  },
  {
   "cell_type": "markdown",
   "metadata": {},
   "source": [
    "#### Remove string control characters"
   ]
  },
  {
   "cell_type": "code",
   "execution_count": 5,
   "metadata": {},
   "outputs": [],
   "source": [
    "def remove_tags(sentence):\n",
    "    regex = re.compile(r'[\\n\\r\\t]')\n",
    "    sentence = regex.sub(\"\", sentence)\n",
    "    return sentence"
   ]
  },
  {
   "cell_type": "markdown",
   "metadata": {},
   "source": [
    "#### Remove punctuation"
   ]
  },
  {
   "cell_type": "code",
   "execution_count": 6,
   "metadata": {},
   "outputs": [],
   "source": [
    "def remove_punctuation(sentence):\n",
    "    return sentence.translate(str.maketrans('', '',string.punctuation))"
   ]
  },
  {
   "cell_type": "markdown",
   "metadata": {},
   "source": [
    "#### Steps Applied\n",
    "<p> Only Czech Column is relevant, this is the one we will use to learn the vector representation, therefore the steps are only applied to this dataframe column: </p>"
   ]
  },
  {
   "cell_type": "code",
   "execution_count": 7,
   "metadata": {},
   "outputs": [],
   "source": [
    "customer_sentences[\"_czech\"] = customer_sentences[\"_czech\"].apply(lowercase)\n",
    "customer_sentences[\"_czech\"] = customer_sentences[\"_czech\"].apply(remove_tags)\n",
    "customer_sentences[\"_czech\"] = customer_sentences[\"_czech\"].apply(remove_punctuation)"
   ]
  },
  {
   "cell_type": "markdown",
   "metadata": {},
   "source": [
    "<p> Observe the obtained output: </p>"
   ]
  },
  {
   "cell_type": "code",
   "execution_count": 8,
   "metadata": {},
   "outputs": [
    {
     "data": {
      "text/html": [
       "<div>\n",
       "<style scoped>\n",
       "    .dataframe tbody tr th:only-of-type {\n",
       "        vertical-align: middle;\n",
       "    }\n",
       "\n",
       "    .dataframe tbody tr th {\n",
       "        vertical-align: top;\n",
       "    }\n",
       "\n",
       "    .dataframe thead th {\n",
       "        text-align: right;\n",
       "    }\n",
       "</style>\n",
       "<table border=\"1\" class=\"dataframe\">\n",
       "  <thead>\n",
       "    <tr style=\"text-align: right;\">\n",
       "      <th></th>\n",
       "      <th>Unnamed: 0</th>\n",
       "      <th>english</th>\n",
       "      <th>_czech</th>\n",
       "      <th>_intent</th>\n",
       "    </tr>\n",
       "  </thead>\n",
       "  <tbody>\n",
       "    <tr>\n",
       "      <td>0</td>\n",
       "      <td>0.0</td>\n",
       "      <td>Can I have the menu please?</td>\n",
       "      <td>můžete mi přinést jídelní lístek</td>\n",
       "      <td>ask_menu</td>\n",
       "    </tr>\n",
       "    <tr>\n",
       "      <td>1</td>\n",
       "      <td>1.0</td>\n",
       "      <td>What is the soup of the day?</td>\n",
       "      <td>jaká je polévka dne</td>\n",
       "      <td>ask_info</td>\n",
       "    </tr>\n",
       "    <tr>\n",
       "      <td>2</td>\n",
       "      <td>2.0</td>\n",
       "      <td>What are today's specials?</td>\n",
       "      <td>jaké jsou speciality dne</td>\n",
       "      <td>ask_info</td>\n",
       "    </tr>\n",
       "    <tr>\n",
       "      <td>3</td>\n",
       "      <td>5.0</td>\n",
       "      <td>Do you have any vegetarian meatless dishes?</td>\n",
       "      <td>máte nějaká vegetariánská  bezmasá jídla</td>\n",
       "      <td>ask_info</td>\n",
       "    </tr>\n",
       "    <tr>\n",
       "      <td>4</td>\n",
       "      <td>6.0</td>\n",
       "      <td>I'll have</td>\n",
       "      <td>dám si</td>\n",
       "      <td>order_food</td>\n",
       "    </tr>\n",
       "    <tr>\n",
       "      <td>5</td>\n",
       "      <td>9.0</td>\n",
       "      <td>Check please!</td>\n",
       "      <td>zaplatíme</td>\n",
       "      <td>pay_order</td>\n",
       "    </tr>\n",
       "    <tr>\n",
       "      <td>6</td>\n",
       "      <td>10.0</td>\n",
       "      <td>Do you take credit cards?</td>\n",
       "      <td>berete kreditní karty</td>\n",
       "      <td>pay_order</td>\n",
       "    </tr>\n",
       "    <tr>\n",
       "      <td>7</td>\n",
       "      <td>11.0</td>\n",
       "      <td>Is service included?</td>\n",
       "      <td>je obsluha v ceně</td>\n",
       "      <td>ask_info</td>\n",
       "    </tr>\n",
       "    <tr>\n",
       "      <td>8</td>\n",
       "      <td>12.0</td>\n",
       "      <td>I'm on a diet</td>\n",
       "      <td>mám dietu  držím dietu</td>\n",
       "      <td>fallback</td>\n",
       "    </tr>\n",
       "    <tr>\n",
       "      <td>9</td>\n",
       "      <td>13.0</td>\n",
       "      <td>I have an allergy to</td>\n",
       "      <td>mám alergii na</td>\n",
       "      <td>inform_allergy</td>\n",
       "    </tr>\n",
       "  </tbody>\n",
       "</table>\n",
       "</div>"
      ],
      "text/plain": [
       "   Unnamed: 0                                      english  \\\n",
       "0         0.0                  Can I have the menu please?   \n",
       "1         1.0                 What is the soup of the day?   \n",
       "2         2.0                   What are today's specials?   \n",
       "3         5.0  Do you have any vegetarian meatless dishes?   \n",
       "4         6.0                                    I'll have   \n",
       "5         9.0                                Check please!   \n",
       "6        10.0                    Do you take credit cards?   \n",
       "7        11.0                         Is service included?   \n",
       "8        12.0                                I'm on a diet   \n",
       "9        13.0                         I have an allergy to   \n",
       "\n",
       "                                     _czech         _intent  \n",
       "0          můžete mi přinést jídelní lístek        ask_menu  \n",
       "1                       jaká je polévka dne        ask_info  \n",
       "2                  jaké jsou speciality dne        ask_info  \n",
       "3  máte nějaká vegetariánská  bezmasá jídla        ask_info  \n",
       "4                                    dám si      order_food  \n",
       "5                                 zaplatíme       pay_order  \n",
       "6                     berete kreditní karty       pay_order  \n",
       "7                         je obsluha v ceně        ask_info  \n",
       "8                    mám dietu  držím dietu        fallback  \n",
       "9                            mám alergii na  inform_allergy  "
      ]
     },
     "execution_count": 8,
     "metadata": {},
     "output_type": "execute_result"
    }
   ],
   "source": [
    "customer_sentences.head(10)"
   ]
  },
  {
   "cell_type": "markdown",
   "metadata": {},
   "source": [
    "#### Vectorizing Czech. Baseline Experiment\n",
    "<p> Because Czech grammar is so different and difficult (at least for me) I will ignore the logical structure of the text and represent it as a vector </p>"
   ]
  },
  {
   "cell_type": "code",
   "execution_count": 9,
   "metadata": {},
   "outputs": [],
   "source": [
    "from sklearn.feature_extraction.text import TfidfVectorizer\n",
    "from sklearn.metrics.pairwise import cosine_similarity"
   ]
  },
  {
   "cell_type": "code",
   "execution_count": 10,
   "metadata": {},
   "outputs": [
    {
     "data": {
      "text/plain": [
       "TfidfVectorizer(analyzer='word', binary=False, decode_error='strict',\n",
       "        dtype=<class 'numpy.float64'>, encoding='utf-8', input='content',\n",
       "        lowercase=True, max_df=1.0, max_features=None, min_df=1,\n",
       "        ngram_range=(1, 1), norm='l2', preprocessor=None, smooth_idf=True,\n",
       "        stop_words=None, strip_accents='ascii', sublinear_tf=False,\n",
       "        token_pattern='(?u)\\\\b\\\\w\\\\w+\\\\b', tokenizer=None, use_idf=True,\n",
       "        vocabulary=None)"
      ]
     },
     "execution_count": 10,
     "metadata": {},
     "output_type": "execute_result"
    }
   ],
   "source": [
    "vectorizer = TfidfVectorizer(strip_accents='ascii')\n",
    "vectorizer.fit(np.concatenate((customer_sentences._czech, customer_sentences._intent)))\n"
   ]
  },
  {
   "cell_type": "code",
   "execution_count": 11,
   "metadata": {},
   "outputs": [],
   "source": [
    "# returns the TFIDF for the possible sentences the customer will say:\n",
    "customer_sentences_vector = vectorizer.transform(customer_sentences._czech)"
   ]
  },
  {
   "cell_type": "code",
   "execution_count": 12,
   "metadata": {},
   "outputs": [
    {
     "name": "stdout",
     "output_type": "stream",
     "text": [
      "[[0. 0. 0. ... 0. 0. 0.]\n",
      " [0. 0. 0. ... 0. 0. 0.]\n",
      " [0. 0. 0. ... 0. 0. 0.]\n",
      " ...\n",
      " [0. 0. 0. ... 0. 0. 0.]\n",
      " [0. 0. 0. ... 0. 0. 0.]\n",
      " [0. 0. 0. ... 0. 0. 0.]] shape: (73, 186)\n"
     ]
    }
   ],
   "source": [
    "# how does that look \n",
    "arr_csvect = customer_sentences_vector.toarray()\n",
    "print(arr_csvect, \"shape:\", arr_csvect.shape)"
   ]
  },
  {
   "cell_type": "markdown",
   "metadata": {},
   "source": [
    "####  Test the Ranking of Intents \n"
   ]
  },
  {
   "cell_type": "code",
   "execution_count": 13,
   "metadata": {},
   "outputs": [
    {
     "name": "stdout",
     "output_type": "stream",
     "text": [
      "You can start chatting  now.\n",
      "zaplatit\n",
      "BOT: pay_order\n",
      "stop\n",
      "ahoj\n"
     ]
    }
   ],
   "source": [
    "print(\"You can start chatting  now.\")\n",
    "while True:\n",
    "    # Read user input\n",
    "    input_question = input()\n",
    "    if input_question == \"stop\":\n",
    "        print(\"ahoj\")\n",
    "        break \n",
    "\n",
    "    # Locate the closest question\n",
    "    input_question_vector = vectorizer.transform([input_question])\n",
    "\n",
    "    # Compute similarities\n",
    "    similarities = cosine_similarity(input_question_vector, customer_sentences_vector)\n",
    "\n",
    "    # Find the closest question\n",
    "    closest = np.argmax(similarities, axis=1)\n",
    "\n",
    "    # Print the correct answer\n",
    "    print(\"BOT: \" + customer_sentences._intent.iloc[closest].values[0])"
   ]
  },
  {
   "cell_type": "code",
   "execution_count": null,
   "metadata": {},
   "outputs": [],
   "source": []
  }
 ],
 "metadata": {
  "kernelspec": {
   "display_name": "Python 3",
   "language": "python",
   "name": "python3"
  },
  "language_info": {
   "codemirror_mode": {
    "name": "ipython",
    "version": 3
   },
   "file_extension": ".py",
   "mimetype": "text/x-python",
   "name": "python",
   "nbconvert_exporter": "python",
   "pygments_lexer": "ipython3",
   "version": "3.6.9"
  }
 },
 "nbformat": 4,
 "nbformat_minor": 2
}
